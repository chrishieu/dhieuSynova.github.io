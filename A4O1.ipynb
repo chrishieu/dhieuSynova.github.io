{
  "nbformat": 4,
  "nbformat_minor": 0,
  "metadata": {
    "colab": {
      "name": "A4O1.ipynb",
      "provenance": [],
      "collapsed_sections": [],
      "authorship_tag": "ABX9TyPPIUxxUt6TrVBQyV8HTrdi",
      "include_colab_link": true
    },
    "kernelspec": {
      "name": "python3",
      "display_name": "Python 3"
    },
    "language_info": {
      "name": "python"
    }
  },
  "cells": [
    {
      "cell_type": "markdown",
      "metadata": {
        "id": "view-in-github",
        "colab_type": "text"
      },
      "source": [
        "<a href=\"https://colab.research.google.com/github/dhieuSynova/dhieuSynova.github.io/blob/master/A4O1.ipynb\" target=\"_parent\"><img src=\"https://colab.research.google.com/assets/colab-badge.svg\" alt=\"Open In Colab\"/></a>"
      ]
    },
    {
      "cell_type": "markdown",
      "metadata": {
        "id": "9A4q8vZaKuSA"
      },
      "source": [
        "\n",
        "# Find n prime number\n",
        "\n"
      ]
    },
    {
      "cell_type": "code",
      "metadata": {
        "id": "Wy1C91mhdixO"
      },
      "source": [
        "def is_prime(num):\n",
        "  if num > 1:  \n",
        "    for i in range(2,num):  \n",
        "      if (num % i) == 0:  \n",
        "        return False  \n",
        "    else:  \n",
        "      return True\n",
        "  elif num == 1:\n",
        "    return True\n",
        "  else:  \n",
        "    return False"
      ],
      "execution_count": null,
      "outputs": []
    },
    {
      "cell_type": "code",
      "metadata": {
        "colab": {
          "base_uri": "https://localhost:8080/"
        },
        "id": "XTLEKjSYdkeK",
        "outputId": "d0365f9f-0ca7-4dd5-acbb-af2a34690586"
      },
      "source": [
        "input_num = int(input(\"Enter a number: \"))  \n",
        "\n",
        "start = 1\n",
        "count = 0\n",
        "while True:\n",
        "  if is_prime(start):\n",
        "    print(start)\n",
        "    count += 1\n",
        "  if count >= input_num:\n",
        "    break\n",
        "  start += 1"
      ],
      "execution_count": null,
      "outputs": [
        {
          "output_type": "stream",
          "text": [
            "Enter a number: 12\n",
            "1\n",
            "2\n",
            "3\n",
            "5\n",
            "7\n",
            "11\n",
            "13\n",
            "17\n",
            "19\n",
            "23\n",
            "29\n",
            "31\n"
          ],
          "name": "stdout"
        }
      ]
    },
    {
      "cell_type": "code",
      "metadata": {
        "id": "APZMOaYFdqg8",
        "colab": {
          "base_uri": "https://localhost:8080/"
        },
        "outputId": "97f0f63e-8ecf-43e9-b687-69963b57b920"
      },
      "source": [
        "is_prime(-1)"
      ],
      "execution_count": null,
      "outputs": [
        {
          "output_type": "execute_result",
          "data": {
            "text/plain": [
              "False"
            ]
          },
          "metadata": {
            "tags": []
          },
          "execution_count": 13
        }
      ]
    },
    {
      "cell_type": "markdown",
      "metadata": {
        "id": "zNXyYjk_0n6x"
      },
      "source": [
        "#Fibonacci\n"
      ]
    },
    {
      "cell_type": "code",
      "metadata": {
        "id": "Zsdfm_ogdoNq",
        "colab": {
          "base_uri": "https://localhost:8080/"
        },
        "outputId": "3d13fc41-0a3c-4bc9-f931-aaaccda6c4f8"
      },
      "source": [
        "def get_fibos(n):\n",
        "  fibonacci_numbers = [0, 1]\n",
        "  for i in range(2, n):\n",
        "    fibonacci_numbers.append(fibonacci_numbers[i-1]+fibonacci_numbers[i-2])\n",
        "  return fibonacci_numbers\n",
        "\n",
        "get_fibos(12)"
      ],
      "execution_count": null,
      "outputs": [
        {
          "output_type": "execute_result",
          "data": {
            "text/plain": [
              "[0, 1, 1, 2, 3, 5, 8, 13, 21, 34, 55, 89]"
            ]
          },
          "metadata": {
            "tags": []
          },
          "execution_count": 26
        }
      ]
    },
    {
      "cell_type": "code",
      "metadata": {
        "colab": {
          "base_uri": "https://localhost:8080/"
        },
        "id": "amNelT9wgryZ",
        "outputId": "3e6584f2-8654-4981-9a4d-daae3283335e"
      },
      "source": [
        "!pip install numpy"
      ],
      "execution_count": null,
      "outputs": [
        {
          "output_type": "stream",
          "text": [
            "Requirement already satisfied: numpy in /usr/local/lib/python3.7/dist-packages (1.19.5)\n"
          ],
          "name": "stdout"
        }
      ]
    },
    {
      "cell_type": "code",
      "metadata": {
        "id": "CrDoyURHg0Hg",
        "colab": {
          "base_uri": "https://localhost:8080/"
        },
        "outputId": "24d4225d-9c1d-4def-e988-5806135c7184"
      },
      "source": [
        "import numpy as np\n",
        " \n",
        "point1 = np.array((1, 2, 3))\n",
        "point2 = np.array((1, 1, 1))\n",
        "\n",
        "print(point1)\n",
        "print(point2)\n",
        "\n",
        "# calculating Euclidean distance\n",
        "# using linalg.norm()\n",
        "dist = np.linalg.norm(point1 - point2)\n",
        " \n",
        "# printing Euclidean distance\n",
        "print(dist)"
      ],
      "execution_count": 4,
      "outputs": [
        {
          "output_type": "stream",
          "text": [
            "[1 2 3]\n",
            "[1 1 1]\n",
            "2.23606797749979\n"
          ],
          "name": "stdout"
        }
      ]
    },
    {
      "cell_type": "markdown",
      "metadata": {
        "id": "_EIN9ng35JlK"
      },
      "source": [
        "# Cosin between 2 vector"
      ]
    },
    {
      "cell_type": "code",
      "metadata": {
        "id": "7oasEMch5eJw"
      },
      "source": [
        "import math\n",
        "\n",
        "def dotproduct(v1, v2):\n",
        "  print(tuple(zip(v1, v2)))\n",
        "  return sum((a*b) for a, b in zip(v1, v2))\n",
        "\n",
        "def length(v):\n",
        "  return math.sqrt(dotproduct(v, v))\n",
        "\n",
        "def angle(v1, v2):\n",
        "  print(dotproduct(v1, v2) / (length(v1) * length(v2)))\n",
        "  return math.acos(dotproduct(v1, v2) / (length(v1) * length(v2)))"
      ],
      "execution_count": 5,
      "outputs": []
    },
    {
      "cell_type": "code",
      "metadata": {
        "colab": {
          "base_uri": "https://localhost:8080/"
        },
        "id": "XCbOzceT6Mgv",
        "outputId": "0629a98b-8ff1-4903-cd3f-40aaf56a09e6"
      },
      "source": [
        "point1 = np.array((1, 2, 3))\n",
        "point2 = np.array((2, -1, 0))\n",
        "\n",
        "angle(point1, point2)"
      ],
      "execution_count": 6,
      "outputs": [
        {
          "output_type": "stream",
          "text": [
            "((1, 2), (2, -1), (3, 0))\n",
            "((1, 1), (2, 2), (3, 3))\n",
            "((2, 2), (-1, -1), (0, 0))\n",
            "0.0\n",
            "((1, 2), (2, -1), (3, 0))\n",
            "((1, 1), (2, 2), (3, 3))\n",
            "((2, 2), (-1, -1), (0, 0))\n"
          ],
          "name": "stdout"
        },
        {
          "output_type": "execute_result",
          "data": {
            "text/plain": [
              "1.5707963267948966"
            ]
          },
          "metadata": {
            "tags": []
          },
          "execution_count": 6
        }
      ]
    },
    {
      "cell_type": "code",
      "metadata": {
        "colab": {
          "base_uri": "https://localhost:8080/"
        },
        "id": "11AfNdFv6rJo",
        "outputId": "8edcf593-255f-4437-f54c-a23d002a757d"
      },
      "source": [
        "dotproduct(point1, point2)"
      ],
      "execution_count": 7,
      "outputs": [
        {
          "output_type": "stream",
          "text": [
            "((1, 2), (2, -1), (3, 0))\n"
          ],
          "name": "stdout"
        },
        {
          "output_type": "execute_result",
          "data": {
            "text/plain": [
              "0"
            ]
          },
          "metadata": {
            "tags": []
          },
          "execution_count": 7
        }
      ]
    },
    {
      "cell_type": "code",
      "metadata": {
        "colab": {
          "base_uri": "https://localhost:8080/"
        },
        "id": "0MPlgZd961RK",
        "outputId": "63584565-d484-4f0e-e469-923abc665bcc"
      },
      "source": [
        "print(length(point1) == np.sqrt(14))\n",
        "print(length(point2) == np.sqrt(5))"
      ],
      "execution_count": 8,
      "outputs": [
        {
          "output_type": "stream",
          "text": [
            "((1, 1), (2, 2), (3, 3))\n",
            "True\n",
            "((2, 2), (-1, -1), (0, 0))\n",
            "True\n"
          ],
          "name": "stdout"
        }
      ]
    },
    {
      "cell_type": "markdown",
      "metadata": {
        "id": "F1LztLXIfBz0"
      },
      "source": [
        "Matrix addtional"
      ]
    },
    {
      "cell_type": "code",
      "metadata": {
        "id": "xC88zvVAfBLj"
      },
      "source": [
        "import numpy as np\n",
        "\n",
        "arr1 = np.array([[1, 2, 3], [4, 5, 6]])\n",
        "arr2 =  np.array([[1, 2, 3], [4, 5, 6]])\n",
        "\n",
        "arr3 = np.array([[1, 3, -2], [4, 0, -3]])\n",
        "arr4 = np.array([[-2, 3, 1], [-4, 0, 3], [2, -3, 4]])"
      ],
      "execution_count": 29,
      "outputs": []
    },
    {
      "cell_type": "code",
      "metadata": {
        "colab": {
          "base_uri": "https://localhost:8080/"
        },
        "id": "VCzV1DH7hOxe",
        "outputId": "30df2d81-0392-4c5f-ca0e-ee3d74de0547"
      },
      "source": [
        "arr1"
      ],
      "execution_count": 13,
      "outputs": [
        {
          "output_type": "execute_result",
          "data": {
            "text/plain": [
              "array([[1, 2, 3],\n",
              "       [4, 5, 6]])"
            ]
          },
          "metadata": {
            "tags": []
          },
          "execution_count": 13
        }
      ]
    },
    {
      "cell_type": "code",
      "metadata": {
        "colab": {
          "base_uri": "https://localhost:8080/"
        },
        "id": "Iqdu4__BhP6e",
        "outputId": "dd32c1ca-47f8-411b-cfc5-b5c0640f92ad"
      },
      "source": [
        "arr2"
      ],
      "execution_count": 15,
      "outputs": [
        {
          "output_type": "execute_result",
          "data": {
            "text/plain": [
              "array([[1, 2, 3],\n",
              "       [4, 5, 6]])"
            ]
          },
          "metadata": {
            "tags": []
          },
          "execution_count": 15
        }
      ]
    },
    {
      "cell_type": "code",
      "metadata": {
        "colab": {
          "base_uri": "https://localhost:8080/"
        },
        "id": "uG5JY0jkhRqg",
        "outputId": "f87609a3-867a-4912-d6d2-bc6c32713dfd"
      },
      "source": [
        "def sum_matrix(m1, m2):\n",
        "  y1, x1 = m1.shape\n",
        "  y2, x2 = m2.shape\n",
        "  m3 = m1\n",
        "  print(m3)\n",
        "  \n",
        "  if (x1 != x2 or y1 != y2):\n",
        "    return false\n",
        "  else:\n",
        "    for i in range(y1):\n",
        "      for j in range(x1):\n",
        "        m3[i, j] += m2[i, j]\n",
        "    return m3\n",
        "\n",
        "print(arr1)\n",
        "print(arr2)\n",
        "sum_matrix(arr1, arr2)"
      ],
      "execution_count": 26,
      "outputs": [
        {
          "output_type": "stream",
          "text": [
            "[[ 2  4  6]\n",
            " [ 8 10 12]]\n",
            "[[1 2 3]\n",
            " [4 5 6]]\n",
            "[[ 2  4  6]\n",
            " [ 8 10 12]]\n"
          ],
          "name": "stdout"
        },
        {
          "output_type": "execute_result",
          "data": {
            "text/plain": [
              "array([[ 3,  6,  9],\n",
              "       [12, 15, 18]])"
            ]
          },
          "metadata": {
            "tags": []
          },
          "execution_count": 26
        }
      ]
    },
    {
      "cell_type": "code",
      "metadata": {
        "colab": {
          "base_uri": "https://localhost:8080/"
        },
        "id": "pKAEayCPqzWS",
        "outputId": "ae529747-70b4-43f6-952d-1d97465d2dd9"
      },
      "source": [
        "def mul_maxtrix(m1, m2):\n",
        "  y1, x1 = m1.shape\n",
        "  y2, x2 = m2.shape\n",
        "  a = np.zeros(shape=(y1, x2))\n",
        "  if (x1 != y2):\n",
        "    return False\n",
        "  else:\n",
        "    for i in range(y1):\n",
        "      for j in range(x2):\n",
        "        a[i, j] = sum(m1[i, k] * m2[k, j] for k in range(x1))\n",
        "    return a\n",
        "mul_maxtrix(arr3, arr4)\n"
      ],
      "execution_count": 31,
      "outputs": [
        {
          "output_type": "execute_result",
          "data": {
            "text/plain": [
              "array([[-18.,   9.,   2.],\n",
              "       [-14.,  21.,  -8.]])"
            ]
          },
          "metadata": {
            "tags": []
          },
          "execution_count": 31
        }
      ]
    },
    {
      "cell_type": "markdown",
      "metadata": {
        "id": "o0bIoGQTxqRD"
      },
      "source": [
        "Palindrome"
      ]
    },
    {
      "cell_type": "code",
      "metadata": {
        "id": "5_Bz1bz5xpa0"
      },
      "source": [
        "def isPalindrome(s):\n",
        "  return s == s[::-1]  "
      ],
      "execution_count": 33,
      "outputs": []
    },
    {
      "cell_type": "code",
      "metadata": {
        "colab": {
          "base_uri": "https://localhost:8080/"
        },
        "id": "PmuI5qcCyHTt",
        "outputId": "82702639-276b-42cc-da1a-3efd393decee"
      },
      "source": [
        "isPalindrome('IOI')"
      ],
      "execution_count": 35,
      "outputs": [
        {
          "output_type": "execute_result",
          "data": {
            "text/plain": [
              "True"
            ]
          },
          "metadata": {
            "tags": []
          },
          "execution_count": 35
        }
      ]
    },
    {
      "cell_type": "code",
      "metadata": {
        "colab": {
          "base_uri": "https://localhost:8080/"
        },
        "id": "lpHyasDzyJmx",
        "outputId": "816306c8-86af-4408-86a5-b1d5fc0d28cb"
      },
      "source": [
        "isPalindrome('MADAM')"
      ],
      "execution_count": 36,
      "outputs": [
        {
          "output_type": "execute_result",
          "data": {
            "text/plain": [
              "True"
            ]
          },
          "metadata": {
            "tags": []
          },
          "execution_count": 36
        }
      ]
    },
    {
      "cell_type": "code",
      "metadata": {
        "colab": {
          "base_uri": "https://localhost:8080/"
        },
        "id": "tMrRXJ-0yLmO",
        "outputId": "8b12fd78-d4e4-40e6-99e4-575c09d649a3"
      },
      "source": [
        "isPalindrome('Hello')"
      ],
      "execution_count": 37,
      "outputs": [
        {
          "output_type": "execute_result",
          "data": {
            "text/plain": [
              "False"
            ]
          },
          "metadata": {
            "tags": []
          },
          "execution_count": 37
        }
      ]
    },
    {
      "cell_type": "markdown",
      "metadata": {
        "id": "6kCIGKoK0SGI"
      },
      "source": [
        "Check Password"
      ]
    },
    {
      "cell_type": "code",
      "metadata": {
        "colab": {
          "base_uri": "https://localhost:8080/"
        },
        "cellView": "code",
        "id": "f2Q8SNl8yNsx",
        "outputId": "816505db-4633-4d11-d25e-3ea7f9f4897f"
      },
      "source": [
        "import re\n",
        "\n",
        "pwd_chain  = 'ABd1234@1,a F1#,2w3E*,2We3345'\n",
        "pwd_arr =  pwd_chain.split(',')\n",
        "for pwd in pwd_arr:\n",
        "  print('All', pwd)\n",
        "  print('Good', pwd) if (re.fullmatch(r'^(?=.*[0-9])(?=.*[a-z])(?=.*[A-Z])(?=.*[$#@]).{8,20}$', pwd)) else None"
      ],
      "execution_count": 50,
      "outputs": [
        {
          "output_type": "stream",
          "text": [
            "All ABd1234@1\n",
            "Good ABd1234@1\n",
            "All a F1#\n",
            "All 2w3E*\n",
            "All 2We3345\n"
          ],
          "name": "stdout"
        }
      ]
    },
    {
      "cell_type": "markdown",
      "metadata": {
        "id": "lf3Na9ll6EQQ"
      },
      "source": [
        "Giải phương trình bậc 2"
      ]
    },
    {
      "cell_type": "code",
      "metadata": {
        "id": "A6uXqvaX6GUE"
      },
      "source": [
        "import numpy as np\n",
        "def solve2ndFormula(a, b, c):\n",
        "  if (a == 0):\n",
        "    return False\n",
        "  else:\n",
        "    if (a + b + c == 0):\n",
        "      return 1, c/a\n",
        "    elif (a - b + c == 0):\n",
        "      return -1, -1 * c / a\n",
        "    else:\n",
        "      delta = b ** 2 - 4 * a * c\n",
        "      if delta < 0:\n",
        "        return False\n",
        "      elif delta == 0: \n",
        "        return ((-1 * b / (2 * a)), (-1 * b / (2 * a)))\n",
        "      else: \n",
        "        # return False\n",
        "        sDelta = np.sqrt(delta)\n",
        "        return (-1 * b - sDelta) / (2 * a), (-1 * b + sDelta) / (2 * a)"
      ],
      "execution_count": 56,
      "outputs": []
    },
    {
      "cell_type": "code",
      "metadata": {
        "colab": {
          "base_uri": "https://localhost:8080/"
        },
        "id": "1pGjvlbU-YGA",
        "outputId": "49050922-a34f-435d-9759-666173d8e3d8"
      },
      "source": [
        "solve2ndFormula(4, -2, -6)"
      ],
      "execution_count": 58,
      "outputs": [
        {
          "output_type": "execute_result",
          "data": {
            "text/plain": [
              "(-1, 1.5)"
            ]
          },
          "metadata": {
            "tags": []
          },
          "execution_count": 58
        }
      ]
    },
    {
      "cell_type": "code",
      "metadata": {
        "colab": {
          "base_uri": "https://localhost:8080/"
        },
        "id": "S-06j5F--jVz",
        "outputId": "1c41668b-6a81-4c91-c5ba-ab54790776a1"
      },
      "source": [
        "solve2ndFormula(2, -7, 3)"
      ],
      "execution_count": 60,
      "outputs": [
        {
          "output_type": "execute_result",
          "data": {
            "text/plain": [
              "(0.5, 3.0)"
            ]
          },
          "metadata": {
            "tags": []
          },
          "execution_count": 60
        }
      ]
    },
    {
      "cell_type": "code",
      "metadata": {
        "colab": {
          "base_uri": "https://localhost:8080/"
        },
        "id": "5mKdLnui-usX",
        "outputId": "552feb06-514f-46da-e298-c2f46bc37165"
      },
      "source": [
        "solve2ndFormula(3, 2, 5)"
      ],
      "execution_count": 62,
      "outputs": [
        {
          "output_type": "execute_result",
          "data": {
            "text/plain": [
              "False"
            ]
          },
          "metadata": {
            "tags": []
          },
          "execution_count": 62
        }
      ]
    },
    {
      "cell_type": "code",
      "metadata": {
        "colab": {
          "base_uri": "https://localhost:8080/"
        },
        "id": "YvzcNn6q-zyI",
        "outputId": "8bd55817-b7e1-4b37-a126-ac7241feb3b0"
      },
      "source": [
        "solve2ndFormula(1, -4, 4)"
      ],
      "execution_count": 63,
      "outputs": [
        {
          "output_type": "execute_result",
          "data": {
            "text/plain": [
              "(2.0, 2.0)"
            ]
          },
          "metadata": {
            "tags": []
          },
          "execution_count": 63
        }
      ]
    },
    {
      "cell_type": "code",
      "metadata": {
        "id": "7KuCnH8x-1yL"
      },
      "source": [
        ""
      ],
      "execution_count": null,
      "outputs": []
    }
  ]
}